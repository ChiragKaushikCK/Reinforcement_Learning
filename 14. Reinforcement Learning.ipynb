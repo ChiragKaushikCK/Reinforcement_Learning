{
 "cells": [
  {
   "cell_type": "code",
   "execution_count": 0,
   "metadata": {
    "application/vnd.databricks.v1+cell": {
     "cellMetadata": {
      "byteLimit": 2048000,
      "rowLimit": 10000
     },
     "inputWidgets": {},
     "nuid": "fa5e7ad2-2bca-4554-914e-03f9ddb4f9f6",
     "showTitle": false,
     "tableResultSettingsMap": {},
     "title": ""
    }
   },
   "outputs": [
    {
     "output_type": "stream",
     "name": "stdout",
     "output_type": "stream",
     "text": [
      "CK\n"
     ]
    }
   ],
   "source": [
    "print('CK')"
   ]
  },
  {
   "cell_type": "code",
   "execution_count": 0,
   "metadata": {
    "application/vnd.databricks.v1+cell": {
     "cellMetadata": {
      "byteLimit": 2048000,
      "rowLimit": 10000
     },
     "inputWidgets": {},
     "nuid": "c7d04607-7ca5-441e-b634-399f0789541a",
     "showTitle": false,
     "tableResultSettingsMap": {},
     "title": ""
    }
   },
   "outputs": [
    {
     "output_type": "stream",
     "name": "stdout",
     "output_type": "stream",
     "text": [
      "Out[49]: DataFrame[Ad 1: string, Ad 2: string, Ad 3: string, Ad 4: string, Ad 5: string, Ad 6: string, Ad 7: string, Ad 8: string, Ad 9: string, Ad 10: string]"
     ]
    }
   ],
   "source": [
    "df=spark.read.csv('/FileStore/tables/Ads_CTR_Optimisation.csv',header=True)\n",
    "df"
   ]
  },
  {
   "cell_type": "code",
   "execution_count": 0,
   "metadata": {
    "application/vnd.databricks.v1+cell": {
     "cellMetadata": {
      "byteLimit": 2048000,
      "rowLimit": 10000
     },
     "inputWidgets": {},
     "nuid": "e4c9e173-9391-4809-b231-b64c5f99c073",
     "showTitle": false,
     "tableResultSettingsMap": {},
     "title": ""
    }
   },
   "outputs": [
    {
     "output_type": "display_data",
     "data": {
      "text/html": [
       "<div>\n",
       "<style scoped>\n",
       "    .dataframe tbody tr th:only-of-type {\n",
       "        vertical-align: middle;\n",
       "    }\n",
       "\n",
       "    .dataframe tbody tr th {\n",
       "        vertical-align: top;\n",
       "    }\n",
       "\n",
       "    .dataframe thead th {\n",
       "        text-align: right;\n",
       "    }\n",
       "</style>\n",
       "<table border=\"1\" class=\"dataframe\">\n",
       "  <thead>\n",
       "    <tr style=\"text-align: right;\">\n",
       "      <th></th>\n",
       "      <th>Ad 1</th>\n",
       "      <th>Ad 2</th>\n",
       "      <th>Ad 3</th>\n",
       "      <th>Ad 4</th>\n",
       "      <th>Ad 5</th>\n",
       "      <th>Ad 6</th>\n",
       "      <th>Ad 7</th>\n",
       "      <th>Ad 8</th>\n",
       "      <th>Ad 9</th>\n",
       "      <th>Ad 10</th>\n",
       "    </tr>\n",
       "  </thead>\n",
       "  <tbody>\n",
       "    <tr>\n",
       "      <th>0</th>\n",
       "      <td>1</td>\n",
       "      <td>0</td>\n",
       "      <td>0</td>\n",
       "      <td>0</td>\n",
       "      <td>1</td>\n",
       "      <td>0</td>\n",
       "      <td>0</td>\n",
       "      <td>0</td>\n",
       "      <td>1</td>\n",
       "      <td>0</td>\n",
       "    </tr>\n",
       "    <tr>\n",
       "      <th>1</th>\n",
       "      <td>0</td>\n",
       "      <td>0</td>\n",
       "      <td>0</td>\n",
       "      <td>0</td>\n",
       "      <td>0</td>\n",
       "      <td>0</td>\n",
       "      <td>0</td>\n",
       "      <td>0</td>\n",
       "      <td>1</td>\n",
       "      <td>0</td>\n",
       "    </tr>\n",
       "    <tr>\n",
       "      <th>2</th>\n",
       "      <td>0</td>\n",
       "      <td>0</td>\n",
       "      <td>0</td>\n",
       "      <td>0</td>\n",
       "      <td>0</td>\n",
       "      <td>0</td>\n",
       "      <td>0</td>\n",
       "      <td>0</td>\n",
       "      <td>0</td>\n",
       "      <td>0</td>\n",
       "    </tr>\n",
       "    <tr>\n",
       "      <th>3</th>\n",
       "      <td>0</td>\n",
       "      <td>1</td>\n",
       "      <td>0</td>\n",
       "      <td>0</td>\n",
       "      <td>0</td>\n",
       "      <td>0</td>\n",
       "      <td>0</td>\n",
       "      <td>1</td>\n",
       "      <td>0</td>\n",
       "      <td>0</td>\n",
       "    </tr>\n",
       "    <tr>\n",
       "      <th>4</th>\n",
       "      <td>0</td>\n",
       "      <td>0</td>\n",
       "      <td>0</td>\n",
       "      <td>0</td>\n",
       "      <td>0</td>\n",
       "      <td>0</td>\n",
       "      <td>0</td>\n",
       "      <td>0</td>\n",
       "      <td>0</td>\n",
       "      <td>0</td>\n",
       "    </tr>\n",
       "    <tr>\n",
       "      <th>...</th>\n",
       "      <td>...</td>\n",
       "      <td>...</td>\n",
       "      <td>...</td>\n",
       "      <td>...</td>\n",
       "      <td>...</td>\n",
       "      <td>...</td>\n",
       "      <td>...</td>\n",
       "      <td>...</td>\n",
       "      <td>...</td>\n",
       "      <td>...</td>\n",
       "    </tr>\n",
       "    <tr>\n",
       "      <th>9995</th>\n",
       "      <td>0</td>\n",
       "      <td>0</td>\n",
       "      <td>1</td>\n",
       "      <td>0</td>\n",
       "      <td>0</td>\n",
       "      <td>0</td>\n",
       "      <td>0</td>\n",
       "      <td>1</td>\n",
       "      <td>0</td>\n",
       "      <td>0</td>\n",
       "    </tr>\n",
       "    <tr>\n",
       "      <th>9996</th>\n",
       "      <td>0</td>\n",
       "      <td>0</td>\n",
       "      <td>0</td>\n",
       "      <td>0</td>\n",
       "      <td>0</td>\n",
       "      <td>0</td>\n",
       "      <td>0</td>\n",
       "      <td>0</td>\n",
       "      <td>0</td>\n",
       "      <td>0</td>\n",
       "    </tr>\n",
       "    <tr>\n",
       "      <th>9997</th>\n",
       "      <td>0</td>\n",
       "      <td>0</td>\n",
       "      <td>0</td>\n",
       "      <td>0</td>\n",
       "      <td>0</td>\n",
       "      <td>0</td>\n",
       "      <td>0</td>\n",
       "      <td>0</td>\n",
       "      <td>0</td>\n",
       "      <td>0</td>\n",
       "    </tr>\n",
       "    <tr>\n",
       "      <th>9998</th>\n",
       "      <td>1</td>\n",
       "      <td>0</td>\n",
       "      <td>0</td>\n",
       "      <td>0</td>\n",
       "      <td>0</td>\n",
       "      <td>0</td>\n",
       "      <td>0</td>\n",
       "      <td>1</td>\n",
       "      <td>0</td>\n",
       "      <td>0</td>\n",
       "    </tr>\n",
       "    <tr>\n",
       "      <th>9999</th>\n",
       "      <td>0</td>\n",
       "      <td>1</td>\n",
       "      <td>0</td>\n",
       "      <td>0</td>\n",
       "      <td>0</td>\n",
       "      <td>0</td>\n",
       "      <td>0</td>\n",
       "      <td>0</td>\n",
       "      <td>0</td>\n",
       "      <td>0</td>\n",
       "    </tr>\n",
       "  </tbody>\n",
       "</table>\n",
       "<p>10000 rows × 10 columns</p>\n",
       "</div>"
      ]
     },
     "metadata": {
      "application/vnd.databricks.v1+output": {
       "addedWidgets": {},
       "arguments": {},
       "data": "<div>\n<style scoped>\n    .dataframe tbody tr th:only-of-type {\n        vertical-align: middle;\n    }\n\n    .dataframe tbody tr th {\n        vertical-align: top;\n    }\n\n    .dataframe thead th {\n        text-align: right;\n    }\n</style>\n<table border=\"1\" class=\"dataframe\">\n  <thead>\n    <tr style=\"text-align: right;\">\n      <th></th>\n      <th>Ad 1</th>\n      <th>Ad 2</th>\n      <th>Ad 3</th>\n      <th>Ad 4</th>\n      <th>Ad 5</th>\n      <th>Ad 6</th>\n      <th>Ad 7</th>\n      <th>Ad 8</th>\n      <th>Ad 9</th>\n      <th>Ad 10</th>\n    </tr>\n  </thead>\n  <tbody>\n    <tr>\n      <th>0</th>\n      <td>1</td>\n      <td>0</td>\n      <td>0</td>\n      <td>0</td>\n      <td>1</td>\n      <td>0</td>\n      <td>0</td>\n      <td>0</td>\n      <td>1</td>\n      <td>0</td>\n    </tr>\n    <tr>\n      <th>1</th>\n      <td>0</td>\n      <td>0</td>\n      <td>0</td>\n      <td>0</td>\n      <td>0</td>\n      <td>0</td>\n      <td>0</td>\n      <td>0</td>\n      <td>1</td>\n      <td>0</td>\n    </tr>\n    <tr>\n      <th>2</th>\n      <td>0</td>\n      <td>0</td>\n      <td>0</td>\n      <td>0</td>\n      <td>0</td>\n      <td>0</td>\n      <td>0</td>\n      <td>0</td>\n      <td>0</td>\n      <td>0</td>\n    </tr>\n    <tr>\n      <th>3</th>\n      <td>0</td>\n      <td>1</td>\n      <td>0</td>\n      <td>0</td>\n      <td>0</td>\n      <td>0</td>\n      <td>0</td>\n      <td>1</td>\n      <td>0</td>\n      <td>0</td>\n    </tr>\n    <tr>\n      <th>4</th>\n      <td>0</td>\n      <td>0</td>\n      <td>0</td>\n      <td>0</td>\n      <td>0</td>\n      <td>0</td>\n      <td>0</td>\n      <td>0</td>\n      <td>0</td>\n      <td>0</td>\n    </tr>\n    <tr>\n      <th>...</th>\n      <td>...</td>\n      <td>...</td>\n      <td>...</td>\n      <td>...</td>\n      <td>...</td>\n      <td>...</td>\n      <td>...</td>\n      <td>...</td>\n      <td>...</td>\n      <td>...</td>\n    </tr>\n    <tr>\n      <th>9995</th>\n      <td>0</td>\n      <td>0</td>\n      <td>1</td>\n      <td>0</td>\n      <td>0</td>\n      <td>0</td>\n      <td>0</td>\n      <td>1</td>\n      <td>0</td>\n      <td>0</td>\n    </tr>\n    <tr>\n      <th>9996</th>\n      <td>0</td>\n      <td>0</td>\n      <td>0</td>\n      <td>0</td>\n      <td>0</td>\n      <td>0</td>\n      <td>0</td>\n      <td>0</td>\n      <td>0</td>\n      <td>0</td>\n    </tr>\n    <tr>\n      <th>9997</th>\n      <td>0</td>\n      <td>0</td>\n      <td>0</td>\n      <td>0</td>\n      <td>0</td>\n      <td>0</td>\n      <td>0</td>\n      <td>0</td>\n      <td>0</td>\n      <td>0</td>\n    </tr>\n    <tr>\n      <th>9998</th>\n      <td>1</td>\n      <td>0</td>\n      <td>0</td>\n      <td>0</td>\n      <td>0</td>\n      <td>0</td>\n      <td>0</td>\n      <td>1</td>\n      <td>0</td>\n      <td>0</td>\n    </tr>\n    <tr>\n      <th>9999</th>\n      <td>0</td>\n      <td>1</td>\n      <td>0</td>\n      <td>0</td>\n      <td>0</td>\n      <td>0</td>\n      <td>0</td>\n      <td>0</td>\n      <td>0</td>\n      <td>0</td>\n    </tr>\n  </tbody>\n</table>\n<p>10000 rows × 10 columns</p>\n</div>",
       "datasetInfos": [],
       "metadata": {},
       "removedWidgets": [],
       "textData": null,
       "type": "htmlSandbox"
      }
     },
     "output_type": "display_data"
    }
   ],
   "source": [
    "df=df.toPandas()\n",
    "\n",
    "df=df.astype(int)\n",
    "df"
   ]
  },
  {
   "cell_type": "code",
   "execution_count": 0,
   "metadata": {
    "application/vnd.databricks.v1+cell": {
     "cellMetadata": {
      "byteLimit": 2048000,
      "rowLimit": 10000
     },
     "inputWidgets": {},
     "nuid": "31e69991-3b03-4967-a3a4-4a74213080e1",
     "showTitle": false,
     "tableResultSettingsMap": {},
     "title": ""
    }
   },
   "outputs": [],
   "source": [
    "# import random as rm\n",
    "\n",
    "# rm.randrange(0,10)"
   ]
  },
  {
   "cell_type": "code",
   "execution_count": 0,
   "metadata": {
    "application/vnd.databricks.v1+cell": {
     "cellMetadata": {
      "byteLimit": 2048000,
      "rowLimit": 10000
     },
     "inputWidgets": {},
     "nuid": "f1d699f8-38da-4edc-980d-33cda5349141",
     "showTitle": false,
     "tableResultSettingsMap": {},
     "title": ""
    }
   },
   "outputs": [
    {
     "output_type": "stream",
     "name": "stdout",
     "output_type": "stream",
     "text": [
      "Total Reward: 1168\n"
     ]
    }
   ],
   "source": [
    "import random as rm\n",
    "\n",
    "N=10000\n",
    "d=10\n",
    "ads=[]\n",
    "total_reward=0\n",
    "\n",
    "for i in range(N):\n",
    "    ad=rm.randrange(d)\n",
    "    ads.append(ad)\n",
    "    #reward=int(df.values[i,ad])  # i is user ad is the user (generated by randrange)\n",
    "    reward=df.values[i,ad]\n",
    "    total_reward += reward\n",
    "\n",
    "print(\"Total Reward:\", total_reward)"
   ]
  },
  {
   "cell_type": "code",
   "execution_count": 0,
   "metadata": {
    "application/vnd.databricks.v1+cell": {
     "cellMetadata": {
      "byteLimit": 2048000,
      "rowLimit": 10000
     },
     "inputWidgets": {},
     "nuid": "b116d3bb-7d9c-43f9-91fb-109ab372c996",
     "showTitle": false,
     "tableResultSettingsMap": {},
     "title": ""
    }
   },
   "outputs": [
    {
     "output_type": "stream",
     "name": "stdout",
     "output_type": "stream",
     "text": [
      "Out[53]: [7,\n 9,\n 2,\n 1,\n 6,\n 0,\n 2,\n 0,\n 9,\n 0,\n 6,\n 6,\n 7,\n 0,\n 8,\n 0,\n 5,\n 1,\n 0,\n 6,\n 9,\n 7,\n 5,\n 4,\n 0,\n 1,\n 4,\n 4,\n 9,\n 5,\n 9,\n 9,\n 3,\n 0,\n 5,\n 7,\n 5,\n 7,\n 2,\n 9,\n 2,\n 7,\n 3,\n 2,\n 6,\n 1,\n 3,\n 3,\n 0,\n 5,\n 3,\n 7,\n 6,\n 3,\n 3,\n 6,\n 4,\n 5,\n 8,\n 4,\n 3,\n 6,\n 8,\n 6,\n 5,\n 7,\n 5,\n 4,\n 1,\n 7,\n 9,\n 7,\n 6,\n 7,\n 5,\n 4,\n 9,\n 5,\n 1,\n 8,\n 1,\n 1,\n 3,\n 0,\n 1,\n 3,\n 0,\n 1,\n 6,\n 4,\n 1,\n 7,\n 2,\n 4,\n 0,\n 2,\n 8,\n 6,\n 8,\n 1,\n 7,\n 8,\n 8,\n 8,\n 8,\n 8,\n 0,\n 3,\n 9,\n 4,\n 8,\n 1,\n 3,\n 6,\n 5,\n 9,\n 1,\n 6,\n 9,\n 0,\n 5,\n 5,\n 5,\n 7,\n 8,\n 9,\n 7,\n 0,\n 0,\n 1,\n 1,\n 6,\n 1,\n 9,\n 6,\n 6,\n 3,\n 4,\n 7,\n 1,\n 5,\n 4,\n 5,\n 6,\n 2,\n 6,\n 4,\n 7,\n 9,\n 3,\n 4,\n 5,\n 6,\n 9,\n 0,\n 7,\n 1,\n 5,\n 9,\n 2,\n 0,\n 7,\n 3,\n 0,\n 6,\n 7,\n 9,\n 1,\n 6,\n 5,\n 9,\n 6,\n 5,\n 7,\n 1,\n 7,\n 0,\n 1,\n 9,\n 0,\n 5,\n 1,\n 1,\n 2,\n 6,\n 9,\n 0,\n 3,\n 9,\n 7,\n 2,\n 4,\n 4,\n 4,\n 8,\n 0,\n 7,\n 4,\n 5,\n 7,\n 2,\n 1,\n 3,\n 0,\n 3,\n 1,\n 9,\n 5,\n 9,\n 8,\n 0,\n 9,\n 0,\n 7,\n 2,\n 6,\n 8,\n 4,\n 4,\n 3,\n 2,\n 1,\n 9,\n 2,\n 4,\n 7,\n 4,\n 0,\n 3,\n 9,\n 6,\n 2,\n 7,\n 1,\n 8,\n 6,\n 5,\n 9,\n 1,\n 2,\n 0,\n 8,\n 4,\n 9,\n 8,\n 2,\n 1,\n 4,\n 6,\n 2,\n 0,\n 3,\n 5,\n 0,\n 5,\n 7,\n 5,\n 1,\n 5,\n 3,\n 1,\n 3,\n 5,\n 5,\n 2,\n 6,\n 6,\n 2,\n 6,\n 3,\n 2,\n 9,\n 1,\n 0,\n 4,\n 6,\n 2,\n 8,\n 1,\n 8,\n 4,\n 1,\n 8,\n 8,\n 3,\n 8,\n 9,\n 5,\n 8,\n 4,\n 2,\n 0,\n 6,\n 0,\n 0,\n 9,\n 6,\n 0,\n 5,\n 2,\n 7,\n 9,\n 6,\n 9,\n 6,\n 9,\n 4,\n 5,\n 0,\n 4,\n 5,\n 8,\n 2,\n 2,\n 4,\n 9,\n 2,\n 5,\n 0,\n 4,\n 3,\n 7,\n 5,\n 1,\n 6,\n 7,\n 4,\n 1,\n 6,\n 1,\n 1,\n 6,\n 0,\n 9,\n 3,\n 4,\n 7,\n 9,\n 5,\n 6,\n 2,\n 2,\n 8,\n 5,\n 2,\n 1,\n 2,\n 4,\n 9,\n 7,\n 8,\n 0,\n 1,\n 2,\n 2,\n 6,\n 4,\n 4,\n 1,\n 8,\n 9,\n 2,\n 0,\n 8,\n 1,\n 1,\n 8,\n 1,\n 7,\n 3,\n 5,\n 7,\n 2,\n 4,\n 4,\n 6,\n 4,\n 4,\n 3,\n 9,\n 0,\n 1,\n 0,\n 3,\n 4,\n 1,\n 1,\n 8,\n 0,\n 9,\n 3,\n 6,\n 2,\n 7,\n 5,\n 8,\n 6,\n 3,\n 2,\n 2,\n 5,\n 4,\n 4,\n 0,\n 2,\n 2,\n 8,\n 6,\n 5,\n 7,\n 3,\n 7,\n 2,\n 2,\n 6,\n 3,\n 0,\n 0,\n 6,\n 6,\n 2,\n 0,\n 1,\n 5,\n 2,\n 3,\n 7,\n 9,\n 0,\n 4,\n 6,\n 3,\n 1,\n 1,\n 5,\n 4,\n 6,\n 3,\n 9,\n 2,\n 0,\n 6,\n 6,\n 8,\n 3,\n 9,\n 3,\n 4,\n 7,\n 9,\n 2,\n 8,\n 3,\n 4,\n 4,\n 8,\n 2,\n 1,\n 2,\n 2,\n 8,\n 2,\n 3,\n 4,\n 6,\n 1,\n 0,\n 9,\n 7,\n 7,\n 4,\n 9,\n 3,\n 3,\n 4,\n 5,\n 9,\n 4,\n 5,\n 9,\n 1,\n 9,\n 6,\n 0,\n 5,\n 9,\n 5,\n 6,\n 9,\n 0,\n 6,\n 0,\n 7,\n 3,\n 9,\n 5,\n 1,\n 2,\n 2,\n 8,\n 9,\n 4,\n 5,\n 2,\n 3,\n 7,\n 6,\n 4,\n 8,\n 4,\n 7,\n 5,\n 8,\n 5,\n 3,\n 3,\n 6,\n 3,\n 6,\n 3,\n 3,\n 6,\n 0,\n 5,\n 6,\n 5,\n 0,\n 7,\n 1,\n 1,\n 4,\n 3,\n 9,\n 4,\n 5,\n 8,\n 0,\n 8,\n 2,\n 8,\n 6,\n 5,\n 1,\n 2,\n 9,\n 1,\n 7,\n 5,\n 8,\n 6,\n 5,\n 4,\n 2,\n 0,\n 8,\n 1,\n 6,\n 9,\n 1,\n 0,\n 3,\n 7,\n 4,\n 2,\n 2,\n 7,\n 3,\n 0,\n 0,\n 7,\n 8,\n 7,\n 2,\n 1,\n 9,\n 1,\n 0,\n 7,\n 4,\n 8,\n 9,\n 1,\n 3,\n 0,\n 3,\n 3,\n 5,\n 2,\n 8,\n 7,\n 8,\n 9,\n 6,\n 7,\n 2,\n 3,\n 0,\n 9,\n 9,\n 2,\n 1,\n 8,\n 4,\n 6,\n 0,\n 7,\n 8,\n 0,\n 1,\n 7,\n 4,\n 2,\n 2,\n 7,\n 3,\n 3,\n 3,\n 6,\n 4,\n 1,\n 5,\n 7,\n 3,\n 8,\n 9,\n 7,\n 9,\n 5,\n 3,\n 0,\n 5,\n 8,\n 4,\n 6,\n 6,\n 7,\n 4,\n 0,\n 1,\n 7,\n 8,\n 5,\n 4,\n 1,\n 5,\n 2,\n 3,\n 4,\n 6,\n 3,\n 2,\n 3,\n 4,\n 2,\n 7,\n 4,\n 2,\n 7,\n 9,\n 1,\n 7,\n 0,\n 1,\n 3,\n 9,\n 9,\n 5,\n 0,\n 4,\n 0,\n 4,\n 4,\n 0,\n 5,\n 2,\n 7,\n 6,\n 8,\n 8,\n 0,\n 5,\n 1,\n 0,\n 8,\n 5,\n 4,\n 3,\n 9,\n 1,\n 0,\n 4,\n 7,\n 3,\n 1,\n 4,\n 6,\n 5,\n 2,\n 8,\n 4,\n 9,\n 0,\n 3,\n 3,\n 3,\n 1,\n 3,\n 6,\n 4,\n 3,\n 9,\n 8,\n 4,\n 1,\n 2,\n 9,\n 9,\n 6,\n 1,\n 2,\n 5,\n 3,\n 4,\n 5,\n 5,\n 4,\n 9,\n 9,\n 1,\n 2,\n 6,\n 9,\n 5,\n 2,\n 2,\n 1,\n 9,\n 6,\n 8,\n 1,\n 2,\n 4,\n 4,\n 6,\n 0,\n 4,\n 0,\n 5,\n 0,\n 4,\n 5,\n 6,\n 2,\n 5,\n 9,\n 6,\n 4,\n 7,\n 0,\n 9,\n 4,\n 2,\n 7,\n 5,\n 6,\n 5,\n 3,\n 6,\n 5,\n 2,\n 5,\n 2,\n 0,\n 6,\n 9,\n 3,\n 6,\n 7,\n 6,\n 0,\n 5,\n 9,\n 4,\n 2,\n 4,\n 3,\n 1,\n 7,\n 4,\n 3,\n 7,\n 0,\n 9,\n 4,\n 6,\n 3,\n 9,\n 9,\n 2,\n 8,\n 0,\n 4,\n 4,\n 2,\n 2,\n 7,\n 2,\n 6,\n 1,\n 1,\n 0,\n 4,\n 2,\n 7,\n 9,\n 4,\n 7,\n 2,\n 0,\n 8,\n 2,\n 4,\n 6,\n 5,\n 7,\n 0,\n 0,\n 8,\n 5,\n 7,\n 5,\n 7,\n 2,\n 7,\n 5,\n 8,\n 7,\n 9,\n 9,\n 8,\n 6,\n 0,\n 8,\n 2,\n 1,\n 1,\n 1,\n 1,\n 7,\n 3,\n 0,\n 9,\n 1,\n 2,\n 9,\n 9,\n 4,\n 8,\n 0,\n 9,\n 2,\n 9,\n 9,\n 5,\n 7,\n 7,\n 0,\n 8,\n 1,\n 5,\n 5,\n 5,\n 9,\n 3,\n 8,\n 4,\n 5,\n 8,\n 6,\n 5,\n 3,\n 3,\n 6,\n 7,\n 1,\n 7,\n 5,\n 2,\n 2,\n 5,\n 2,\n 5,\n 7,\n 6,\n 3,\n 8,\n 5,\n 8,\n 3,\n 0,\n 6,\n 7,\n 3,\n 9,\n 4,\n 8,\n 9,\n 9,\n 7,\n 4,\n 4,\n 1,\n 7,\n 2,\n 6,\n 7,\n 5,\n 0,\n 7,\n 6,\n 6,\n 3,\n 2,\n 5,\n 6,\n 9,\n 0,\n 0,\n 5,\n 2,\n 8,\n 3,\n 5,\n 8,\n 8,\n 8,\n 0,\n 1,\n 9,\n 7,\n 7,\n 8,\n 1,\n 9,\n 7,\n 1,\n 0,\n 2,\n 2,\n 2,\n 4,\n 8,\n 5,\n 0,\n 8,\n 5,\n 6,\n 5,\n 3,\n 7,\n 9,\n 5,\n 6,\n 2,\n 2,\n 7,\n 3,\n 3,\n 0,\n 7,\n 9,\n 8,\n 3,\n 6,\n 2,\n 8,\n 1,\n 8,\n 4,\n 3,\n 6,\n 4,\n 1,\n 7,\n 8,\n 5,\n 8,\n 5,\n 7,\n 5,\n 3,\n 1,\n 7,\n 7,\n 6,\n 5,\n 0,\n 6,\n 0,\n 0,\n ...]"
     ]
    }
   ],
   "source": [
    "ads"
   ]
  },
  {
   "cell_type": "code",
   "execution_count": 0,
   "metadata": {
    "application/vnd.databricks.v1+cell": {
     "cellMetadata": {
      "byteLimit": 2048000,
      "rowLimit": 10000
     },
     "inputWidgets": {},
     "nuid": "0c81b0d0-1f76-4cd4-8729-b0b092299713",
     "showTitle": false,
     "tableResultSettingsMap": {},
     "title": ""
    }
   },
   "outputs": [
    {
     "output_type": "stream",
     "name": "stdout",
     "output_type": "stream",
     "text": [
      "Out[54]: 1168"
     ]
    }
   ],
   "source": [
    "total_reward"
   ]
  },
  {
   "cell_type": "code",
   "execution_count": 0,
   "metadata": {
    "application/vnd.databricks.v1+cell": {
     "cellMetadata": {
      "byteLimit": 2048000,
      "rowLimit": 10000
     },
     "inputWidgets": {},
     "nuid": "11a43230-728c-4b91-b299-88b3fb4d91b2",
     "showTitle": false,
     "tableResultSettingsMap": {},
     "title": ""
    }
   },
   "outputs": [
    {
     "output_type": "display_data",
     "data": {
      "image/png": "[encoded data removed]"
     },
     "metadata": {
      "application/vnd.databricks.v1+output": {
       "addedWidgets": {},
       "arguments": {},
       "data": "data:image/png;base64,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\n",
       "datasetInfos": [],
       "metadata": {},
       "removedWidgets": [],
       "type": "image"
      }
     },
     "output_type": "display_data"
    }
   ],
   "source": [
    "import matplotlib.pyplot as plt\n",
    "\n",
    "plt.hist(ads)\n",
    "plt.title('histogram of Ads selection')\n",
    "plt.xlabel('ad')\n",
    "plt.ylabel('number of selection')\n",
    "plt.show()"
   ]
  },
  {
   "cell_type": "code",
   "execution_count": 0,
   "metadata": {
    "application/vnd.databricks.v1+cell": {
     "cellMetadata": {},
     "inputWidgets": {},
     "nuid": "cb6f6651-712f-4c48-b821-990688ed8d7c",
     "showTitle": false,
     "tableResultSettingsMap": {},
     "title": ""
    }
   },
   "outputs": [],
   "source": []
  }
 ],
 "metadata": {
  "application/vnd.databricks.v1+notebook": {
   "computePreferences": null,
   "dashboards": [],
   "environmentMetadata": {
    "base_environment": "",
    "environment_version": "1"
   },
   "inputWidgetPreferences": null,
   "language": "python",
   "notebookMetadata": {
    "pythonIndentUnit": 4
   },
   "notebookName": "14. Reinforcement Learning",
   "widgets": {}
  }
 },
 "nbformat": 4,
 "nbformat_minor": 0
}